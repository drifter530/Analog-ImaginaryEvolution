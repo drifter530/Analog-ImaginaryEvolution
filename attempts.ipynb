{
 "cells": [
  {
   "cell_type": "code",
   "execution_count": 2,
   "metadata": {},
   "outputs": [],
   "source": [
    "import qutip as qp\n",
    "import numpy as np\n",
    "import matplotlib.pyplot as plt\n",
    "\n",
    "import scipy \n",
    "from scipy.special import legendre\n",
    "import time\n",
    "import math\n",
    "from scipy.linalg import expm"
   ]
  },
  {
   "cell_type": "code",
   "execution_count": null,
   "metadata": {},
   "outputs": [],
   "source": [
    "e1=1\n",
    "e2=1\n",
    "J12=0.7\n",
    "basis='legendre'\n",
    "\n",
    "X=np.array([[0,1],[1,0]])\n",
    "Y=np.array([[0,-1j],[1j,0]])\n",
    "Z=np.array([[1,0],[0,-1]])\n",
    "I=np.array([[1,0],[0,1]])\n",
    "\n",
    "Hsys=e1/2*(np.kron(I,I)-np.kron(Z,I))+e2/2*(np.kron(I,I)-np.kron(I,Z))+J12*(np.kron(Y,Y)+np.kron(X,X))/4\n",
    "H=[np.kron(X,I),np.kron(I,X)]\n",
    "\n",
    "psi0=np.array([1/np.sqrt(2),1/np.sqrt(2),0,0])\n",
    "coeff=np.array([0,0,0,0,0,0])\n",
    "\n",
    "n_basis=3\n",
    "T=1\n",
    "\n",
    "def sigmoid(x):\n",
    "    if x>0:\n",
    "        return (1-math.exp(-x)) / (1 + math.exp(-x))\n",
    "    else:\n",
    "        return (math.exp(x)-1) / (math.exp(x) + 1)\n",
    "    \n",
    "def legendre(n,x):\n",
    "    if n==0:\n",
    "        return 1\n",
    "    elif n==1:\n",
    "        return x\n",
    "    elif n==2:\n",
    "        return (3*x**2-1)/2\n",
    "\n",
    "def u(i,t):\n",
    "    u=0\n",
    "    n=n_basis\n",
    "    for j in range(n):\n",
    "        if basis == 'legendre':\n",
    "            u+=coeff[i*n+j]*legendre(j,2*t/T-1)\n",
    "        elif  basis == 'exponent':\n",
    "            u+=coeff[i*n+j]*(-t/T)**j\n",
    "    u=sigmoid(u)\n",
    "    return u\n",
    "\n",
    "def trotter1(psi0,t_start,t_end,n_step=25):\n",
    "    psi=psi0\n",
    "    T=t_end-t_start\n",
    "\n",
    "    dt=T/n_step\n",
    "    for i in range(n_step):\n",
    "        U=expm(-1j*dt*(Hsys+u(0,t_start+i*dt)*H[0]+u(1,t_start+i*dt)*H[1]))\n",
    "        psi=U@psi\n",
    "    return psi\n",
    "\n",
    "def computeM1():\n",
    "    M=np.zeros((2*n_basis,2*n_basis))\n",
    "    \n",
    "    for i1 in range(2):\n",
    "        for j1 in range(n_basis):\n",
    "            for i2 in range(2):\n",
    "                for j2 in range(n_basis):\n",
    "                    t=np.linspace(T/20,T*19/20,10)\n",
    "                    z=np.zeros(100)\n",
    "                    U_0tot=np.zeros((10,4,4),dtype=complex)\n",
    "                    U_ttoT=np.zeros((10,4,4),dtype=complex)\n",
    "                    Utt=np.zeros((9,4,4),dtype=complex)\n",
    "                    for i in range(9):\n",
    "                        Utt[i]=trotter_U(T*(i+0.5)/10,T*(i+1.5)/10)\n",
    "                    Ut=trotter_U(0,T/20)\n",
    "                    U_0tot[0]=Ut\n",
    "                    for i in range(9):\n",
    "                        Ut=Utt[i]@Ut\n",
    "                        U_ttoT[i+1]=Ut\n",
    "                    Ut=trotter_U(T*19/20,T)\n",
    "                    U_ttoT[9]=Ut\n",
    "                    for i in range(9):\n",
    "                        Ut=Ut@Utt[8-i]\n",
    "                        U_0tot[8-i]=Ut\n",
    "                    for i in range(10):\n",
    "                        for j in range(10):\n",
    "                            psi1=U_0tot[i]@psi0\n",
    "                            psi1=Hs[i1]@psi1\n",
    "                            psi1=U_ttoT[i]@psi1\n",
    "                            psi2=U_0tot[j]@psi0\n",
    "                            psi2=Hs[i2]@psi2\n",
    "                            psi2=U_ttoT[j]@psi2\n",
    "                            du1=0.5*(1+u(i1,t[i]))*(1-u(i1,t[i]))*legendre(j1,2*t[i]/T-1)\n",
    "                            du2=0.5*(1+u(i2,t[j]))*(1-u(i2,t[j]))*legendre(j2,2*t[j]/T-1)\n",
    "                            z[i*10+j]=(du1*du2*np.conjugate(psi2)@psi1).real\n",
    "                    M[i1*n_basis+j1][i2*n_basis+j2]=np.mean(z)*np.mean(z)*(T**2)\n",
    "    return M \n",
    "\n",
    "def m(t1,t2,i1,i2,j1,j2):\n",
    "    psi1=trotter1(psi0,0,t1)\n",
    "    psi1=0.5*(1-u(i1,t1)**2)*legendre(j1,2*t1/T-1)*H[i1]@psi1\n",
    "    psi1=trotter1(psi1,t1,T)\n",
    "    psi2=trotter1(psi0,0,t2)\n",
    "    psi2=0.5*(1-u(i2,t2)**2)*legendre(j2,2*t2/T-1)*H[i2]@psi2\n",
    "    psi2=trotter1(psi2,t2,T)\n",
    "    return (np.conjugate(psi1)@psi2).real\n",
    "\n",
    "m=np.vectorize(m)\n",
    "turn=1\n",
    "for i1 in range(1):\n",
    "    for j1 in range(n_basis):\n",
    "        for i2 in range(2):\n",
    "            for j2 in range(j1,n_basis):\n",
    "                x = np.linspace(0, T, 100)\n",
    "                y = np.linspace(0, T, 100)\n",
    "                X, Y = np.meshgrid(x, y)\n",
    "                Z = m(X,Y,i1,i2,j1,j2)\n",
    "                fig = plt.figure()\n",
    "                ax = fig.add_subplot(projection='3d')\n",
    "                ax.plot_surface(X, Y, Z)\n",
    "                ax.set_xlabel('x')\n",
    "                ax.set_ylabel('y')\n",
    "                ax.set_zlabel('f(x,y)')\n",
    "                ax.set_title('m(x,y) i1='+str(i1)+' i2='+str(i2)+'coeff='+str(coeff))\n",
    "                t=time.localtime()\n",
    "                plt.savefig('log\\\\figure\\\\M3d'+str(t.tm_mday)+str(t.tm_hour)+str(t.tm_min)+'.png',dpi=500)\n",
    "                print(turn)\n",
    "                turn+=1\n",
    "\n",
    "\n",
    "\n",
    "\n",
    "\n",
    "\n",
    "\n",
    "\n",
    "\n",
    "\n",
    "\n",
    "\n",
    "\n",
    "\n"
   ]
  },
  {
   "cell_type": "code",
   "execution_count": 3,
   "metadata": {},
   "outputs": [],
   "source": [
    "n_basis=3\n",
    "basis='legendre'\n",
    "\n",
    "T=4\n",
    "dt0=0.05\n",
    "T0=3\n",
    "dt1=0.005\n",
    "\n",
    "point_M=36\n",
    "point_C=10\n",
    "\n",
    "a0=-1.0524\n",
    "a1=-0.0113\n",
    "a2=0.1809\n",
    "a3=-0.3979\n",
    "a4=0.3979\n",
    "\n",
    "e1=0.5\n",
    "e2=0.5\n",
    "J12=0.7\n",
    "\n",
    "X=np.array([[0,1],[1,0]])\n",
    "Y=np.array([[0,-1j],[1j,0]])\n",
    "Z=np.array([[1,0],[0,-1]])\n",
    "I=np.array([[1,0],[0,1]])\n",
    "\n",
    "spectral_coeff=np.array([0,0,0,0,0,0])\n",
    "\n",
    "Hsys=e1/2*(np.kron(I,I)-np.kron(Z,I))+e2/2*(np.kron(I,I)-np.kron(I,Z))+J12*(np.kron(Y,Y)+np.kron(X,X))/4\n",
    "\n",
    "psi0=np.array([1/np.sqrt(2),1/np.sqrt(2),0,0])\n",
    "\n",
    "Hs=[np.kron(X,I),np.kron(I,X)]\n",
    "\n",
    "Hc=a0*np.kron(I,I)+a1*np.kron(Z,Z)+a2*np.kron(X,X)+a3*np.kron(Z,I)+a4*np.kron(I,Z)\n",
    "\n",
    "Hc=np.array(Hc)\n",
    "w,v=np.linalg.eig(Hc)\n"
   ]
  },
  {
   "cell_type": "code",
   "execution_count": 22,
   "metadata": {},
   "outputs": [
    {
     "name": "stdout",
     "output_type": "stream",
     "text": [
      "(0.044520946385421256+0j)\n"
     ]
    }
   ],
   "source": [
    "psi=np.array([0.03407481+0.05019357j ,0.25594675-0.95315994j ,0.04643222+0.00406846j,\n",
    " 0.10172816-0.09887259j])\n",
    "Hc=a0*np.kron(I,I)+a1*np.kron(Z,Z)+a2*np.kron(X,X)+a3*np.kron(Z,I)+a4*np.kron(I,Z)\n",
    "E,p=np.linalg.eig(Hc)\n",
    "E0=np.min(E)\n",
    "dE=np.conjugate(psi)@Hc@psi-E0\n",
    "print(dE)\n"
   ]
  },
  {
   "cell_type": "code",
   "execution_count": 4,
   "metadata": {},
   "outputs": [
    {
     "name": "stdout",
     "output_type": "stream",
     "text": [
      "[[ 0 -2  0  0]\n",
      " [ 2  0  0  0]\n",
      " [ 0  0  0  2]\n",
      " [ 0  0 -2  0]]\n"
     ]
    }
   ],
   "source": [
    "print(np.kron(I,X)@np.kron(Z,Z)-np.kron(Z,Z)@np.kron(I,X))"
   ]
  },
  {
   "cell_type": "code",
   "execution_count": 18,
   "metadata": {},
   "outputs": [
    {
     "name": "stdout",
     "output_type": "stream",
     "text": [
      "[ 1.        +8.70220796e-17j -0.10957893-1.76515007e-17j\n",
      " -0.66186242-9.13541007e-18j -1.05139999-4.40665157e-17j]\n"
     ]
    }
   ],
   "source": [
    "def generateH():\n",
    "    pauli2=[np.kron(I,I),np.kron(I,X),np.kron(I,Y),np.kron(I,Z)\n",
    "            ,np.kron(X,I),np.kron(X,X),np.kron(X,Y),np.kron(X,Z),\n",
    "            np.kron(Y,I),np.kron(Y,X),np.kron(Y,Y),np.kron(Y,Z),\n",
    "            np.kron(Z,I),np.kron(Z,X),np.kron(Z,Y),np.kron(Z,Z)]\n",
    "    x=np.random.uniform(-1,1,16)\n",
    "    H=np.zeros((4,4),dtype=complex)\n",
    "    for i in range(16):\n",
    "        H+=x[i]*pauli2[i]\n",
    "    E0=max(np.linalg.eigvals(H))\n",
    "    H=H/E0\n",
    "    return H\n",
    "\n",
    "h=generateH()\n",
    "print(np.linalg.eigvals(h))"
   ]
  },
  {
   "cell_type": "code",
   "execution_count": 3,
   "metadata": {},
   "outputs": [
    {
     "data": {
      "image/png": "[encoded data removed]",
      "text/plain": [
       "<Figure size 432x288 with 1 Axes>"
      ]
     },
     "metadata": {
      "needs_background": "light"
     },
     "output_type": "display_data"
    }
   ],
   "source": [
    "x=np.linspace(-20,20,100)\n",
    "\n",
    "f=np.zeros(100)\n",
    "for i in x:\n",
    "    f=(1-np.exp(-x))/(1+np.exp(-x))\n",
    "\n",
    "plt.plot(x,f)\n",
    "plt.show()"
   ]
  }
 ],
 "metadata": {
  "kernelspec": {
   "display_name": "Python 3",
   "language": "python",
   "name": "python3"
  },
  "language_info": {
   "codemirror_mode": {
    "name": "ipython",
    "version": 3
   },
   "file_extension": ".py",
   "mimetype": "text/x-python",
   "name": "python",
   "nbconvert_exporter": "python",
   "pygments_lexer": "ipython3",
   "version": "3.10.2"
  },
  "orig_nbformat": 4
 },
 "nbformat": 4,
 "nbformat_minor": 2
}
